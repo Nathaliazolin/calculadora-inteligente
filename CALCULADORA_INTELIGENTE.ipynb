{
  "cells": [
    {
      "cell_type": "code",
      "execution_count": null,
      "metadata": {
        "colab": {
          "base_uri": "https://localhost:8080/"
        },
        "id": "op6kA67pvBE1",
        "outputId": "c446e275-a2b7-4600-cb15-e22020fa70e2"
      },
      "outputs": [],
      "source": [
        "#Solicitar os numeros ao usuário\n",
        "numero1 = int(input (\"Digite o primeiro numero: \"))\n",
        "numero2 = int(input (\"Digite o segundo numero: \"))\n",
        "\n",
        "#Menu de opções para o usuário selecionar\n",
        "print(\"Escolha a operação desejada:\")\n",
        "print(\"1. Soma\")\n",
        "print(\"2. Subtração\")\n",
        "print(\"3. Multiplicação\")\n",
        "print(\"4. Divisão\")\n",
        "print(\"5. Divisão do munero inteiro\")\n",
        "opcaodesejada = int(input(\"Digite a opção que desejada: \"))\n",
        "\n",
        "#Condicional\n",
        "if opcaodesejada == 1:\n",
        "    resultado = numero1 + numero2\n",
        "    print(\"O resultado da soma é:\", resultado)\n",
        "\n",
        "elif opcaodesejada == 2:\n",
        "    resultado = numero1 - numero2\n",
        "    print(\"O resultado da subtração é:\", resultado)\n",
        "\n",
        "elif opcaodesejada == 3:\n",
        "    resultado = numero1 * numero2\n",
        "    print(\"O resultado da multiplicação é:\", resultado)\n",
        "\n",
        "elif opcaodesejada == 4:\n",
        "    resultado = numero1 / numero2\n",
        "    print(\"O resultado da divisão é:\", resultado)\n",
        "\n",
        "elif opcaodesejada == 5:\n",
        "    resultado = numero1 // numero2\n",
        "    print(\"O resultado da divisão do número inteiro é:\", resultado)\n",
        "\n",
        "else:\n",
        "    print(\"Opção inválida. Por favor, escolha uma opção válida.\")"
      ]
    }
  ],
  "metadata": {
    "colab": {
      "provenance": []
    },
    "kernelspec": {
      "display_name": "Python 3",
      "name": "python3"
    },
    "language_info": {
      "name": "python"
    }
  },
  "nbformat": 4,
  "nbformat_minor": 0
}
